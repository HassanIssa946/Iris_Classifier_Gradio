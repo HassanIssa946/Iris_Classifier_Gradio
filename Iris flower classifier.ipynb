{
 "cells": [
  {
   "cell_type": "code",
   "execution_count": 12,
   "metadata": {},
   "outputs": [],
   "source": [
    "import pandas as pd\n",
    "from sklearn.model_selection import train_test_split\n",
    "from sklearn.svm import SVC\n",
    "from sklearn.naive_bayes import GaussianNB\n",
    "from sklearn.neighbors import KNeighborsClassifier\n",
    "from sklearn.metrics import confusion_matrix\n",
    "import numpy as np\n",
    "import gradio as gr"
   ]
  },
  {
   "cell_type": "code",
   "execution_count": 13,
   "metadata": {},
   "outputs": [
    {
     "name": "stdout",
     "output_type": "stream",
     "text": [
      "Index(['sepal_length', 'sepal_width', 'petal_length', 'petal_width',\n",
      "       'species'],\n",
      "      dtype='object')\n",
      "(150, 5)\n",
      "     sepal_length  sepal_width  petal_length  petal_width         species\n",
      "0             5.1          3.5           1.4          0.2     Iris-setosa\n",
      "1             4.9          3.0           1.4          0.2     Iris-setosa\n",
      "2             4.7          3.2           1.3          0.2     Iris-setosa\n",
      "3             4.6          3.1           1.5          0.2     Iris-setosa\n",
      "4             5.0          3.6           1.4          0.2     Iris-setosa\n",
      "..            ...          ...           ...          ...             ...\n",
      "145           6.7          3.0           5.2          2.3  Iris-virginica\n",
      "146           6.3          2.5           5.0          1.9  Iris-virginica\n",
      "147           6.5          3.0           5.2          2.0  Iris-virginica\n",
      "148           6.2          3.4           5.4          2.3  Iris-virginica\n",
      "149           5.9          3.0           5.1          1.8  Iris-virginica\n",
      "\n",
      "[150 rows x 5 columns]\n"
     ]
    }
   ],
   "source": [
    "# Cell 1: Read and Prepare the Dataset \n",
    "df=pd.read_csv(r\"C:\\Users\\Hassan\\Desktop\\Classification\\Datasets\\IRIS.csv\")\n",
    "print(df.columns)\n",
    "print(df.shape)\n",
    "print(df.head(150))\n",
    "\n",
    "\n",
    "X = df[['sepal_length',  'sepal_width', 'petal_length','petal_width']]\n",
    "y = df[ 'species']\n",
    "\n",
    "# Split the data into training and testing sets\n",
    "X_train, X_test, y_train, y_test = train_test_split(X, y, test_size=0.33, random_state=1)"
   ]
  },
  {
   "cell_type": "code",
   "execution_count": 14,
   "metadata": {},
   "outputs": [
    {
     "name": "stdout",
     "output_type": "stream",
     "text": [
      "Confusion Matrix for SVM:\n",
      "[[17  0  0]\n",
      " [ 0 18  1]\n",
      " [ 0  0 14]]\n",
      "\n",
      "Confusion Matrix for Naïve Bayes:\n",
      "[[17  0  0]\n",
      " [ 0 17  2]\n",
      " [ 0  1 13]]\n",
      "\n",
      "Confusion Matrix for KNN:\n",
      "[[17  0  0]\n",
      " [ 0 19  0]\n",
      " [ 0  1 13]]\n"
     ]
    }
   ],
   "source": [
    "#Cell 2 Task1 Support Vector Machine,Naïve Bayes,K-Nearest Neighbors Classifier\n",
    "\n",
    "svm = SVC()\n",
    "svm.fit(X_train, y_train)\n",
    "svm_predictions = svm.predict(X_test)\n",
    "svm_conf_matrix = confusion_matrix(y_test, svm_predictions)\n",
    "\n",
    "\n",
    "\n",
    "nb = GaussianNB()\n",
    "nb.fit(X_train, y_train)\n",
    "nb_predictions = nb.predict(X_test)\n",
    "nb_conf_matrix = confusion_matrix(y_test, nb_predictions)\n",
    "\n",
    "\n",
    "\n",
    "knn = KNeighborsClassifier()\n",
    "knn.fit(X_train, y_train)\n",
    "knn_predictions = knn.predict(X_test)\n",
    "knn_conf_matrix = confusion_matrix(y_test, knn_predictions)\n",
    "\n",
    "# Display the confusion matrices of each\n",
    "print(\"Confusion Matrix for SVM:\")\n",
    "print(svm_conf_matrix)\n",
    "\n",
    "print(\"\\nConfusion Matrix for Naïve Bayes:\")\n",
    "print(nb_conf_matrix)\n",
    "\n",
    "print(\"\\nConfusion Matrix for KNN:\")\n",
    "print(knn_conf_matrix)"
   ]
  },
  {
   "cell_type": "code",
   "execution_count": 15,
   "metadata": {},
   "outputs": [
    {
     "name": "stdout",
     "output_type": "stream",
     "text": [
      "sepal_length    15\n",
      "sepal_width      0\n",
      "petal_length     0\n",
      "petal_width     15\n",
      "species          0\n",
      "dtype: int64\n",
      "     sepal_length  sepal_width  petal_length  petal_width         species\n",
      "0             5.1          3.5           1.4          0.2     Iris-setosa\n",
      "1             4.9          3.0           1.4          0.2     Iris-setosa\n",
      "2             4.7          3.2           1.3          0.2     Iris-setosa\n",
      "3             NaN          3.1           1.5          0.2     Iris-setosa\n",
      "4             5.0          3.6           1.4          0.2     Iris-setosa\n",
      "..            ...          ...           ...          ...             ...\n",
      "145           6.7          3.0           5.2          2.3  Iris-virginica\n",
      "146           6.3          2.5           5.0          1.9  Iris-virginica\n",
      "147           6.5          3.0           5.2          2.0  Iris-virginica\n",
      "148           6.2          3.4           5.4          2.3  Iris-virginica\n",
      "149           5.9          3.0           5.1          1.8  Iris-virginica\n",
      "\n",
      "[150 rows x 5 columns]\n"
     ]
    }
   ],
   "source": [
    "np.random.seed(2)\n",
    "\n",
    "# Generate random indices for NaN values in 'sepal_length' column\n",
    "sepal_length_nan_indices = np.random.choice(df.index, size=15, replace=False)\n",
    "df.loc[sepal_length_nan_indices, 'sepal_length'] = np.nan\n",
    "# Generate random indices for NaN values in 'petal_width' column\n",
    "petal_width_nan_indices = np.random.choice(df.index, size=15, replace=False)\n",
    "df.loc[petal_width_nan_indices, 'petal_width'] = np.nan\n",
    "\n",
    "# Check for NaN values in each column\n",
    "nan_counts = df.isnull().sum()\n",
    "print(nan_counts)\n",
    "print(df)\n"
   ]
  },
  {
   "cell_type": "code",
   "execution_count": 16,
   "metadata": {},
   "outputs": [
    {
     "data": {
      "text/html": [
       "<div>\n",
       "<style scoped>\n",
       "    .dataframe tbody tr th:only-of-type {\n",
       "        vertical-align: middle;\n",
       "    }\n",
       "\n",
       "    .dataframe tbody tr th {\n",
       "        vertical-align: top;\n",
       "    }\n",
       "\n",
       "    .dataframe thead th {\n",
       "        text-align: right;\n",
       "    }\n",
       "</style>\n",
       "<table border=\"1\" class=\"dataframe\">\n",
       "  <thead>\n",
       "    <tr style=\"text-align: right;\">\n",
       "      <th></th>\n",
       "      <th>sepal_length</th>\n",
       "      <th>sepal_width</th>\n",
       "      <th>petal_length</th>\n",
       "      <th>petal_width</th>\n",
       "      <th>species</th>\n",
       "    </tr>\n",
       "  </thead>\n",
       "  <tbody>\n",
       "    <tr>\n",
       "      <th>0</th>\n",
       "      <td>5.100000</td>\n",
       "      <td>3.5</td>\n",
       "      <td>1.4</td>\n",
       "      <td>0.2</td>\n",
       "      <td>Iris-setosa</td>\n",
       "    </tr>\n",
       "    <tr>\n",
       "      <th>1</th>\n",
       "      <td>4.900000</td>\n",
       "      <td>3.0</td>\n",
       "      <td>1.4</td>\n",
       "      <td>0.2</td>\n",
       "      <td>Iris-setosa</td>\n",
       "    </tr>\n",
       "    <tr>\n",
       "      <th>2</th>\n",
       "      <td>4.700000</td>\n",
       "      <td>3.2</td>\n",
       "      <td>1.3</td>\n",
       "      <td>0.2</td>\n",
       "      <td>Iris-setosa</td>\n",
       "    </tr>\n",
       "    <tr>\n",
       "      <th>3</th>\n",
       "      <td>5.894815</td>\n",
       "      <td>3.1</td>\n",
       "      <td>1.5</td>\n",
       "      <td>0.2</td>\n",
       "      <td>Iris-setosa</td>\n",
       "    </tr>\n",
       "    <tr>\n",
       "      <th>4</th>\n",
       "      <td>5.000000</td>\n",
       "      <td>3.6</td>\n",
       "      <td>1.4</td>\n",
       "      <td>0.2</td>\n",
       "      <td>Iris-setosa</td>\n",
       "    </tr>\n",
       "    <tr>\n",
       "      <th>...</th>\n",
       "      <td>...</td>\n",
       "      <td>...</td>\n",
       "      <td>...</td>\n",
       "      <td>...</td>\n",
       "      <td>...</td>\n",
       "    </tr>\n",
       "    <tr>\n",
       "      <th>145</th>\n",
       "      <td>6.700000</td>\n",
       "      <td>3.0</td>\n",
       "      <td>5.2</td>\n",
       "      <td>2.3</td>\n",
       "      <td>Iris-virginica</td>\n",
       "    </tr>\n",
       "    <tr>\n",
       "      <th>146</th>\n",
       "      <td>6.300000</td>\n",
       "      <td>2.5</td>\n",
       "      <td>5.0</td>\n",
       "      <td>1.9</td>\n",
       "      <td>Iris-virginica</td>\n",
       "    </tr>\n",
       "    <tr>\n",
       "      <th>147</th>\n",
       "      <td>6.500000</td>\n",
       "      <td>3.0</td>\n",
       "      <td>5.2</td>\n",
       "      <td>2.0</td>\n",
       "      <td>Iris-virginica</td>\n",
       "    </tr>\n",
       "    <tr>\n",
       "      <th>148</th>\n",
       "      <td>6.200000</td>\n",
       "      <td>3.4</td>\n",
       "      <td>5.4</td>\n",
       "      <td>2.3</td>\n",
       "      <td>Iris-virginica</td>\n",
       "    </tr>\n",
       "    <tr>\n",
       "      <th>149</th>\n",
       "      <td>5.900000</td>\n",
       "      <td>3.0</td>\n",
       "      <td>5.1</td>\n",
       "      <td>1.8</td>\n",
       "      <td>Iris-virginica</td>\n",
       "    </tr>\n",
       "  </tbody>\n",
       "</table>\n",
       "<p>150 rows × 5 columns</p>\n",
       "</div>"
      ],
      "text/plain": [
       "     sepal_length  sepal_width  petal_length  petal_width         species\n",
       "0        5.100000          3.5           1.4          0.2     Iris-setosa\n",
       "1        4.900000          3.0           1.4          0.2     Iris-setosa\n",
       "2        4.700000          3.2           1.3          0.2     Iris-setosa\n",
       "3        5.894815          3.1           1.5          0.2     Iris-setosa\n",
       "4        5.000000          3.6           1.4          0.2     Iris-setosa\n",
       "..            ...          ...           ...          ...             ...\n",
       "145      6.700000          3.0           5.2          2.3  Iris-virginica\n",
       "146      6.300000          2.5           5.0          1.9  Iris-virginica\n",
       "147      6.500000          3.0           5.2          2.0  Iris-virginica\n",
       "148      6.200000          3.4           5.4          2.3  Iris-virginica\n",
       "149      5.900000          3.0           5.1          1.8  Iris-virginica\n",
       "\n",
       "[150 rows x 5 columns]"
      ]
     },
     "execution_count": 16,
     "metadata": {},
     "output_type": "execute_result"
    }
   ],
   "source": [
    "# Cell 4 task 3 Replace the NaN values with the mean \n",
    "Mean_df = df.assign(sepal_length=df['sepal_length'].fillna(df['sepal_length'].mean()), \n",
    "                   petal_width=df['petal_width'].fillna(df['petal_width'].mean()))\n",
    "Mean_df\n",
    "\n"
   ]
  },
  {
   "cell_type": "code",
   "execution_count": 17,
   "metadata": {},
   "outputs": [
    {
     "name": "stdout",
     "output_type": "stream",
     "text": [
      "Confusion Matrix for SVM on filled dataset:\n",
      "[[18  0  0]\n",
      " [ 0 15  2]\n",
      " [ 0  0 15]]\n",
      "\n",
      "Confusion Matrix for Naïve Bayes on filled dataset:\n",
      "[[18  0  0]\n",
      " [ 0 15  2]\n",
      " [ 0  0 15]]\n",
      "\n",
      "Confusion Matrix for KNN on filled dataset:\n",
      "[[18  0  0]\n",
      " [ 0 14  3]\n",
      " [ 0  0 15]]\n"
     ]
    }
   ],
   "source": [
    "# Cell 6 Task 4 - same as cell 2 but with the mean data set.\n",
    "\n",
    "# Assuming features 1, 2, 3 as the input features and 'target' as the target variable for classification\n",
    "X_mean = Mean_df[['sepal_length',  'sepal_width', 'petal_length','petal_width']]\n",
    "y_mean = Mean_df['species']\n",
    "\n",
    "# Split the filled data into training and testing sets\n",
    "X_train_Mean, X_test_Mean, y_train_Mean, y_test_Mean = train_test_split(X_mean, y_mean, test_size=0.33, random_state=3)\n",
    "\n",
    "# SVM Classifier on filled dataset\n",
    "svm_classifier_filled = SVC()\n",
    "svm_classifier_filled.fit(X_train_Mean, y_train_Mean)\n",
    "svm_predictions_filled = svm_classifier_filled.predict(X_test_Mean)\n",
    "svm_conf_matrix_filled = confusion_matrix(y_test_Mean, svm_predictions_filled)\n",
    "\n",
    "# Naïve Bayes Classifier on filled dataset\n",
    "nb_classifier_filled = GaussianNB()\n",
    "nb_classifier_filled.fit(X_train_Mean, y_train_Mean)\n",
    "nb_predictions_filled = nb_classifier_filled.predict(X_test_Mean)\n",
    "nb_conf_matrix_filled = confusion_matrix(y_test_Mean, nb_predictions_filled)\n",
    "\n",
    "# KNN Classifier on filled dataset\n",
    "knn_classifier_filled = KNeighborsClassifier()\n",
    "knn_classifier_filled.fit(X_train_Mean, y_train_Mean)\n",
    "knn_predictions_filled = knn_classifier_filled.predict(X_test_Mean)\n",
    "knn_conf_matrix_filled = confusion_matrix(y_test_Mean, knn_predictions_filled)\n",
    "\n",
    "# Display confusion matrices on the filled dataset\n",
    "print(\"Confusion Matrix for SVM on filled dataset:\")\n",
    "print(svm_conf_matrix_filled)\n",
    "\n",
    "print(\"\\nConfusion Matrix for Naïve Bayes on filled dataset:\")\n",
    "print(nb_conf_matrix_filled)\n",
    "\n",
    "print(\"\\nConfusion Matrix for KNN on filled dataset:\")\n",
    "print(knn_conf_matrix_filled)"
   ]
  },
  {
   "cell_type": "code",
   "execution_count": 19,
   "metadata": {},
   "outputs": [],
   "source": [
    "# Define the prediction function\n",
    "def predict(sepal_length, sepal_width, petal_length, petal_width, classifier):\n",
    "    input_data = np.array([[sepal_length, sepal_width, petal_length, petal_width]])\n",
    "    \n",
    "    if classifier == 'SVM':\n",
    "        prediction = svm_classifier_filled.predict(input_data)\n",
    "    elif classifier == 'Naive Bayes':\n",
    "        prediction = nb_classifier_filled.predict(input_data)\n",
    "    elif classifier == 'KNN':\n",
    "        prediction = knn_classifier_filled.predict(input_data)\n",
    "    \n",
    "    return prediction[0]"
   ]
  },
  {
   "cell_type": "code",
   "execution_count": 21,
   "metadata": {},
   "outputs": [
    {
     "name": "stdout",
     "output_type": "stream",
     "text": [
      "Running on local URL:  http://127.0.0.1:7860\n",
      "\n",
      "To create a public link, set `share=True` in `launch()`.\n"
     ]
    },
    {
     "data": {
      "text/html": [
       "<div><iframe src=\"http://127.0.0.1:7860/\" width=\"100%\" height=\"500\" allow=\"autoplay; camera; microphone; clipboard-read; clipboard-write;\" frameborder=\"0\" allowfullscreen></iframe></div>"
      ],
      "text/plain": [
       "<IPython.core.display.HTML object>"
      ]
     },
     "metadata": {},
     "output_type": "display_data"
    },
    {
     "data": {
      "text/plain": []
     },
     "execution_count": 21,
     "metadata": {},
     "output_type": "execute_result"
    },
    {
     "name": "stderr",
     "output_type": "stream",
     "text": [
      "C:\\Users\\Hassan\\Desktop\\Classification\\Lib\\site-packages\\sklearn\\base.py:493: UserWarning: X does not have valid feature names, but SVC was fitted with feature names\n",
      "  warnings.warn(\n"
     ]
    }
   ],
   "source": [
    "interface = gr.Interface(\n",
    "    fn=predict,\n",
    "    inputs=[\n",
    "        gr.Number(label=\"Sepal Length\"),\n",
    "        gr.Number(label=\"Sepal Width\"),\n",
    "        gr.Number(label=\"Petal Length\"),\n",
    "        gr.Number(label=\"Petal Width\"),\n",
    "        gr.Radio(choices=[\"SVM\", \"Naive Bayes\", \"KNN\"], label=\"Classifier\")\n",
    "    ],\n",
    "    outputs=gr.Textbox(label=\"Predicted Iris Species\")\n",
    ")\n",
    "\n",
    "# Launch the interface\n",
    "interface.launch()"
   ]
  },
  {
   "cell_type": "code",
   "execution_count": null,
   "metadata": {},
   "outputs": [],
   "source": []
  }
 ],
 "metadata": {
  "kernelspec": {
   "display_name": "Python 3 (ipykernel)",
   "language": "python",
   "name": "python3"
  },
  "language_info": {
   "codemirror_mode": {
    "name": "ipython",
    "version": 3
   },
   "file_extension": ".py",
   "mimetype": "text/x-python",
   "name": "python",
   "nbconvert_exporter": "python",
   "pygments_lexer": "ipython3",
   "version": "3.11.5"
  }
 },
 "nbformat": 4,
 "nbformat_minor": 4
}
